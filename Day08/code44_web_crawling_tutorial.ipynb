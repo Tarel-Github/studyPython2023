{
 "cells": [
  {
   "cell_type": "markdown",
   "metadata": {},
   "source": [
    "## 웹 크롤링\n",
    "\n",
    "### 인터넷 접속"
   ]
  },
  {
   "cell_type": "code",
   "execution_count": 12,
   "metadata": {},
   "outputs": [],
   "source": [
    "from urllib.request import urlopen, Request\n",
    "\n",
    "# 도시별 날씨 검색 함수\n",
    "def get_weather(city):\n",
    "    # 기상청 홈페이지 도시별 날씨 페이지\n",
    "    url = 'https://www.weather.go.kr/w/obs-climate/land/city-obs.do'\n",
    "    page = urlopen(url=url)\n",
    "\n",
    "    text = page.read().decode('utf-8')\n",
    "    text = text[text.find(f'>{city}</a>'):]\n",
    "\n",
    "    # 기온 가져오기\n",
    "    for i in range(7):\n",
    "        text = text[text.find('<td>')+1:]\n",
    "\n",
    "    start = 3\n",
    "    end = text.find('</td>')\n",
    "    current_temp = text[start:end]\n",
    "    print(f'{city}의 현재 기온은 {current_temp}˚C 입니다.')\n",
    "\n",
    "    # 습도 가져오기\n",
    "    for i in range(3):\n",
    "        text = text[text.find('<td>')+1:]\n",
    "\n",
    "    start = 3\n",
    "    end = text.find('</td>')\n",
    "    current_humid = text[start:end]\n",
    "    print(f'{city}의 현재 습도는 {current_humid}% 입니다.')\n",
    "    \n",
    "get_weather('부산')"
   ]
  }
 ],
 "metadata": {
  "kernelspec": {
   "display_name": "Python 3",
   "language": "python",
   "name": "python3"
  },
  "language_info": {
   "codemirror_mode": {
    "name": "ipython",
    "version": 3
   },
   "file_extension": ".py",
   "mimetype": "text/x-python",
   "name": "python",
   "nbconvert_exporter": "python",
   "pygments_lexer": "ipython3",
   "version": "3.11.1"
  },
  "orig_nbformat": 4,
  "vscode": {
   "interpreter": {
    "hash": "a3d8f53f1429d27b792a3789224562ddd32c1395c9a9cfbb17b3c19c3b9a493d"
   }
  }
 },
 "nbformat": 4,
 "nbformat_minor": 2
}
