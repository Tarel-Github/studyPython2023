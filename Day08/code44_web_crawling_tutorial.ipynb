{
 "cells": [
  {
   "cell_type": "markdown",
   "metadata": {},
   "source": [
    "## 웹 크롤링\n",
    "\n",
    "### 인터넷 접속"
   ]
  },
  {
   "cell_type": "code",
   "execution_count": 12,
   "metadata": {},
   "outputs": [
    {
     "name": "stdout",
     "output_type": "stream",
     "text": [
      "부산의 현재 기온은 7.1˚C 입니다.\n",
      "부산의 현재 습도는 41% 입니다.\n"
     ]
    }
   ],
   "source": [
    "from urllib.request import urlopen, Request\n",
    "\n",
    "# 도시별 날씨 검색 함수\n",
    "def get_weather(city):\n",
    "    # 기상청 홈페이지 도시별 날씨 페이지\n",
    "    url = 'https://www.weather.go.kr/w/obs-climate/land/city-obs.do'\n",
    "    page = urlopen(url=url)\n",
    "\n",
    "    text = page.read().decode('utf-8')\n",
    "    text = text[text.find(f'>{city}</a>'):]\n",
    "\n",
    "    # 기온 가져오기\n",
    "    for i in range(7):\n",
    "        text = text[text.find('<td>')+1:]\n",
    "\n",
    "    start = 3\n",
    "    end = text.find('</td>')\n",
    "    current_temp = text[start:end]\n",
    "    print(f'{city}의 현재 기온은 {current_temp}˚C 입니다.')\n",
    "\n",
    "    # 습도 가져오기\n",
    "    for i in range(3):\n",
    "        text = text[text.find('<td>')+1:]\n",
    "\n",
    "    start = 3\n",
    "    end = text.find('</td>')\n",
    "    current_humid = text[start:end]\n",
    "    print(f'{city}의 현재 습도는 {current_humid}% 입니다.')\n",
    "    \n",
    "get_weather('부산')"
   ]
  },
  {
   "attachments": {},
   "cell_type": "markdown",
   "metadata": {},
   "source": [
    "### OpneAPI 크롤링\n",
    "\n",
    "- 공공데이터 포털\n",
    "    - http://www.data.go.kr\n",
    "    - 부산광역시 버스정보안내기 현황"
   ]
  },
  {
   "cell_type": "code",
   "execution_count": 20,
   "metadata": {},
   "outputs": [
    {
     "name": "stdout",
     "output_type": "stream",
     "text": [
      "https://apis.data.go.kr/6260000/BusanTblBusinfoeqStusService/getTblBusinfoeqStusInfo?serviceKey=EmCpfwaIYY1h6xUdXPg6c9DxsctH9Bau9ueNoGXoAs0zEckxoWbkI1sdOY%2F4%2Bp6z3so0n51cffoU0q5ha%2BhQMQ%3D%3D&pageNo=1&numOfRows=10&resultType=xml&stationLoc=%EB%A1%AF%EB%8D%B0%EB%B0%B1%ED%99%94%EC%A0%90\n"
     ]
    },
    {
     "data": {
      "text/plain": [
       "'%EB%A1%AF%EB%8D%B0%EB%B0%B1%ED%99%94%EC%A0%90'"
      ]
     },
     "execution_count": 20,
     "metadata": {},
     "output_type": "execute_result"
    }
   ],
   "source": [
    "import requests\n",
    "from urllib.parse import quote, unquote,urlencode  # 한글을 URL인코드로 변환해주는 함수\n",
    "import json\n",
    "import ssl\n",
    "\n",
    "# stationName 정류소 이름\n",
    "def getDataPortalSearch(stationName, type):\n",
    "    api_url = 'https://apis.data.go.kr/6260000/BusanTblBusinfoeqStusService/getTblBusinfoeqStusInfo'\n",
    "    queryString = \"?\" + urlencode(\n",
    "        {    \n",
    "            'serviceKey': 'EmCpfwaIYY1h6xUdXPg6c9DxsctH9Bau9ueNoGXoAs0zEckxoWbkI1sdOY/4+p6z3so0n51cffoU0q5ha+hQMQ==',\n",
    "            'pageNo': '1',\n",
    "            'numOfRows': '10',\n",
    "            'resultType': type,\n",
    "            'stationLoc' : stationName\n",
    "        }\n",
    "    )\n",
    "\n",
    "    total_url = api_url + queryString\n",
    "    print(total_url)\n",
    "        \n",
    "getDataPortalSearch('롯데백화점','xml')\n"
   ]
  }
 ],
 "metadata": {
  "kernelspec": {
   "display_name": "Python 3",
   "language": "python",
   "name": "python3"
  },
  "language_info": {
   "codemirror_mode": {
    "name": "ipython",
    "version": 3
   },
   "file_extension": ".py",
   "mimetype": "text/x-python",
   "name": "python",
   "nbconvert_exporter": "python",
   "pygments_lexer": "ipython3",
   "version": "3.11.1"
  },
  "orig_nbformat": 4,
  "vscode": {
   "interpreter": {
    "hash": "a3d8f53f1429d27b792a3789224562ddd32c1395c9a9cfbb17b3c19c3b9a493d"
   }
  }
 },
 "nbformat": 4,
 "nbformat_minor": 2
}
