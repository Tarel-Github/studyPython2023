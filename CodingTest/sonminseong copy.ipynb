{
 "cells": [
  {
   "attachments": {},
   "cell_type": "markdown",
   "metadata": {},
   "source": [
    "## 1번"
   ]
  },
  {
   "cell_type": "code",
   "execution_count": 1,
   "metadata": {},
   "outputs": [
    {
     "name": "stdout",
     "output_type": "stream",
     "text": [
      "원의 넓이는 706.8583470577034 입니다.\n"
     ]
    }
   ],
   "source": [
    "import math\n",
    "\n",
    "def solution(radius):\n",
    "    return math.pi*radius**2\n",
    "\n",
    "rad = int(input('반지름을 입력하세요 > '))\n",
    "print(f'원의 넓이는 {solution(rad)} 입니다.')"
   ]
  },
  {
   "attachments": {},
   "cell_type": "markdown",
   "metadata": {},
   "source": [
    "## 2번"
   ]
  },
  {
   "cell_type": "code",
   "execution_count": 2,
   "metadata": {},
   "outputs": [
    {
     "ename": "TypeError",
     "evalue": "'int' object is not callable",
     "output_type": "error",
     "traceback": [
      "\u001b[1;31m---------------------------------------------------------------------------\u001b[0m",
      "\u001b[1;31mTypeError\u001b[0m                                 Traceback (most recent call last)",
      "Cell \u001b[1;32mIn[2], line 21\u001b[0m\n\u001b[0;32m     18\u001b[0m     \u001b[39melse\u001b[39;00m:\n\u001b[0;32m     19\u001b[0m         \u001b[39mreturn\u001b[39;00m \u001b[39m'\u001b[39m\u001b[39m잘못된 입력입니다. 다시 입력해주세요\u001b[39m\u001b[39m'\u001b[39m\n\u001b[1;32m---> 21\u001b[0m \u001b[39minput\u001b[39m \u001b[39m=\u001b[39m \u001b[39mstr\u001b[39m(\u001b[39minput\u001b[39;49m(\u001b[39m'\u001b[39;49m\u001b[39m행성 이름을 영어로 입력하세요 > \u001b[39;49m\u001b[39m'\u001b[39;49m))\n\u001b[0;32m     22\u001b[0m \u001b[39mprint\u001b[39m(solution(\u001b[39minput\u001b[39m))\n",
      "\u001b[1;31mTypeError\u001b[0m: 'int' object is not callable"
     ]
    }
   ],
   "source": [
    "def solution(name):\n",
    "    if name == 'Mercury':\n",
    "        return '한글 명칭은 수성 입니다.'\n",
    "    elif name == 'Venus':\n",
    "        return '한글 명칭은 금성 입니다.'\n",
    "    elif name == 'Earth':\n",
    "        return '한글 명칭은 지구 입니다.'\n",
    "    elif name == 'Mars':\n",
    "        return '한글 명칭은 화성 입니다.'\n",
    "    elif name == 'Jupiter':\n",
    "        return '한글 명칭은 목성 입니다.'\n",
    "    elif name == 'Saturn':\n",
    "        return '한글 명칭은 토성 입니다.'\n",
    "    elif name == 'Uranus':\n",
    "        return '한글 명칭은 천왕성 입니다.'\n",
    "    elif name == 'Neptune':\n",
    "        return '한글 명칭은 해왕성 입니다.'\n",
    "    else:\n",
    "        return '잘못된 입력입니다. 다시 입력해주세요'\n",
    "\n",
    "n = str(input('행성 이름을 영어로 입력하세요 > '))\n",
    "print(solution(n))"
   ]
  },
  {
   "attachments": {},
   "cell_type": "markdown",
   "metadata": {},
   "source": [
    "## 3번"
   ]
  },
  {
   "cell_type": "code",
   "execution_count": null,
   "metadata": {},
   "outputs": [],
   "source": [
    "def solution(data):\n",
    "    a = data.split(' ')\n",
    "    for i in range(len(a)):\n",
    "        if i % 2 == 1:\n",
    "            a[i] = a[i].upper()\n",
    "    return a\n",
    "\n",
    "abc = str(input('영어문장을 입력하세요 > '))\n",
    "print(f'{solution(abc)} / {len(solution(abc))}')"
   ]
  },
  {
   "attachments": {},
   "cell_type": "markdown",
   "metadata": {},
   "source": [
    "## 4번"
   ]
  },
  {
   "cell_type": "code",
   "execution_count": null,
   "metadata": {},
   "outputs": [],
   "source": [
    "def solution(data):\n",
    "    a = data.split(' ')\n",
    "    a.sort(reverse=True)\n",
    "    b = ' '.join(s for s in a)\n",
    "    return b\n",
    "\n",
    "n = str(input('숫자를 입력하세요(예시: 2 3 1 4) > '))\n",
    "print(solution(n))"
   ]
  },
  {
   "attachments": {},
   "cell_type": "markdown",
   "metadata": {},
   "source": [
    "## 5번"
   ]
  },
  {
   "cell_type": "code",
   "execution_count": null,
   "metadata": {},
   "outputs": [],
   "source": [
    "def solution(data):\n",
    "    a = ('')\n",
    "    for i in range(1, 10):\n",
    "        a = a + str(i * data) + ' '\n",
    "    return a\n",
    "\n",
    "n = int(input('구구단 단 번호를 입력하세요 > '))\n",
    "print(solution(n))"
   ]
  }
 ],
 "metadata": {
  "kernelspec": {
   "display_name": "venv",
   "language": "python",
   "name": "python3"
  },
  "language_info": {
   "codemirror_mode": {
    "name": "ipython",
    "version": 3
   },
   "file_extension": ".py",
   "mimetype": "text/x-python",
   "name": "python",
   "nbconvert_exporter": "python",
   "pygments_lexer": "ipython3",
   "version": "3.11.1 (tags/v3.11.1:a7a450f, Dec  6 2022, 19:58:39) [MSC v.1934 64 bit (AMD64)]"
  },
  "orig_nbformat": 4,
  "vscode": {
   "interpreter": {
    "hash": "1732cc55dde7803caebda0df0f1738cc035ced225322b7cf344f368c2c40d995"
   }
  }
 },
 "nbformat": 4,
 "nbformat_minor": 2
}
