{
 "cells": [
  {
   "attachments": {},
   "cell_type": "markdown",
   "metadata": {},
   "source": [
    "# 주피터 노트북 사용법 학습\n",
    "\n",
    "## 마크다운, 파이썬 셀을 추가 : 단축키\n",
    "- 현재 셀 앞에 셀 추가: a\n",
    "- 현재 셀 뒤에 셀 추가: b\n",
    "- 현재 셀을 마크다운으로 변경: 포커스(커서가 깜빡거리지 않는)만 상태에서 M\n",
    "- 현재 셀을 코드 셀로 변경: 포커스 상태에서 Y"
   ]
  },
  {
   "attachments": {},
   "cell_type": "markdown",
   "metadata": {},
   "source": [
    "## 파이썬 셀 실행\n",
    "- 셀 실행 : Ctrl + Enter\n",
    "- 셀 실행, 다음 셀로 이동(다음 셀이 없으면 생성) : Shift + Enter\n",
    "- 셀 실행, 다음 셀로 생성: Alt + Enter\n",
    "- 주석 처리 : Ctrl + / 또는 Ctrl + K + C"
   ]
  },
  {
   "cell_type": "code",
   "execution_count": 4,
   "metadata": {},
   "outputs": [
    {
     "name": "stdout",
     "output_type": "stream",
     "text": [
      "Hello World!\n"
     ]
    }
   ],
   "source": [
    "print('Hello World!')\n"
   ]
  },
  {
   "attachments": {},
   "cell_type": "markdown",
   "metadata": {},
   "source": [
    "## 디버깅!!\n",
    "아무리 강조해도 지나치지 않을 정도로 중요한 파트."
   ]
  },
  {
   "cell_type": "code",
   "execution_count": 5,
   "metadata": {},
   "outputs": [
    {
     "name": "stdout",
     "output_type": "stream",
     "text": [
      "1\n",
      "2\n",
      "True\n",
      "Hello\n",
      "3.1415926585\n"
     ]
    }
   ],
   "source": [
    "arr = [1, '2', True, 'Hello', 3.1415926585 ]\n",
    "for i in arr:\n",
    "    print(i)"
   ]
  },
  {
   "cell_type": "code",
   "execution_count": 7,
   "metadata": {},
   "outputs": [
    {
     "name": "stdout",
     "output_type": "stream",
     "text": [
      "더하기\n",
      "14\n"
     ]
    }
   ],
   "source": [
    "def plus(x, y):\n",
    "    val = x + y\n",
    "    return val\n",
    "\n",
    "def div(x, y):\n",
    "    val = x / y\n",
    "    return val\n",
    "\n",
    "\n",
    "\n",
    "print('더하기')\n",
    "print(plus(10, 4))"
   ]
  },
  {
   "cell_type": "code",
   "execution_count": 9,
   "metadata": {},
   "outputs": [
    {
     "name": "stdout",
     "output_type": "stream",
     "text": [
      "나누기\n",
      "10.0\n"
     ]
    }
   ],
   "source": [
    "print('나누기')\n",
    "print(div(10,1))"
   ]
  },
  {
   "cell_type": "code",
   "execution_count": 6,
   "metadata": {},
   "outputs": [
    {
     "data": {
      "text/plain": [
       "[1, '2', True, 'Hello', 3.1415926585]"
      ]
     },
     "execution_count": 6,
     "metadata": {},
     "output_type": "execute_result"
    }
   ],
   "source": [
    "arr"
   ]
  },
  {
   "attachments": {},
   "cell_type": "markdown",
   "metadata": {},
   "source": [
    "## list(arrray) for문 예제"
   ]
  },
  {
   "cell_type": "code",
   "execution_count": 10,
   "metadata": {},
   "outputs": [
    {
     "data": {
      "text/plain": [
       "<enumerate at 0x23411d23dd0>"
      ]
     },
     "execution_count": 10,
     "metadata": {},
     "output_type": "execute_result"
    }
   ],
   "source": [
    "enumerate(arr)"
   ]
  },
  {
   "cell_type": "code",
   "execution_count": 11,
   "metadata": {},
   "outputs": [
    {
     "name": "stdout",
     "output_type": "stream",
     "text": [
      "0 = 1\n",
      "1 = 2\n",
      "2 = True\n",
      "3 = Hello\n",
      "4 = 3.1415926585\n"
     ]
    }
   ],
   "source": [
    "for i, item in enumerate(arr):\n",
    "    print(f'{i} = {item}')"
   ]
  }
 ],
 "metadata": {
  "kernelspec": {
   "display_name": "Python 3",
   "language": "python",
   "name": "python3"
  },
  "language_info": {
   "codemirror_mode": {
    "name": "ipython",
    "version": 3
   },
   "file_extension": ".py",
   "mimetype": "text/x-python",
   "name": "python",
   "nbconvert_exporter": "python",
   "pygments_lexer": "ipython3",
   "version": "3.11.1"
  },
  "orig_nbformat": 4,
  "vscode": {
   "interpreter": {
    "hash": "a3d8f53f1429d27b792a3789224562ddd32c1395c9a9cfbb17b3c19c3b9a493d"
   }
  }
 },
 "nbformat": 4,
 "nbformat_minor": 2
}
